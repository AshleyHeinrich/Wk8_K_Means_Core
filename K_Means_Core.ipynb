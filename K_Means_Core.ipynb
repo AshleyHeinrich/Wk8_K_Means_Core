{
 "cells": [
  {
   "cell_type": "markdown",
   "id": "328b7cd8",
   "metadata": {},
   "source": [
    "# KMeans Core "
   ]
  },
  {
   "cell_type": "markdown",
   "id": "14c551ed",
   "metadata": {},
   "source": [
    "## Import and Load Data"
   ]
  },
  {
   "cell_type": "code",
   "execution_count": 1,
   "id": "a4b90ae6",
   "metadata": {},
   "outputs": [],
   "source": [
    "import numpy as np\n",
    "import pandas as pd\n",
    "import matplotlib.pyplot as plt\n",
    "from sklearn.preprocessing import StandardScaler\n",
    "from sklearn.cluster import KMeans\n",
    "from sklearn.metrics import silhouette_score"
   ]
  },
  {
   "cell_type": "code",
   "execution_count": 2,
   "id": "a68f14f1",
   "metadata": {},
   "outputs": [],
   "source": [
    "filename = ('Data/cust_seg.csv')\n",
    "df = pd.read_csv(filename)"
   ]
  },
  {
   "cell_type": "markdown",
   "id": "335741ed",
   "metadata": {},
   "source": [
    "## Explore Data"
   ]
  },
  {
   "cell_type": "code",
   "execution_count": 3,
   "id": "7f5f1a02",
   "metadata": {},
   "outputs": [
    {
     "name": "stdout",
     "output_type": "stream",
     "text": [
      "<class 'pandas.core.frame.DataFrame'>\n",
      "RangeIndex: 850 entries, 0 to 849\n",
      "Data columns (total 10 columns):\n",
      " #   Column           Non-Null Count  Dtype  \n",
      "---  ------           --------------  -----  \n",
      " 0   Unnamed: 0       850 non-null    int64  \n",
      " 1   Customer Id      850 non-null    int64  \n",
      " 2   Age              850 non-null    int64  \n",
      " 3   Edu              850 non-null    int64  \n",
      " 4   Years Employed   850 non-null    int64  \n",
      " 5   Income           850 non-null    int64  \n",
      " 6   Card Debt        850 non-null    float64\n",
      " 7   Other Debt       850 non-null    float64\n",
      " 8   Defaulted        700 non-null    float64\n",
      " 9   DebtIncomeRatio  850 non-null    float64\n",
      "dtypes: float64(4), int64(6)\n",
      "memory usage: 66.5 KB\n"
     ]
    },
    {
     "data": {
      "text/html": [
       "<div>\n",
       "<style scoped>\n",
       "    .dataframe tbody tr th:only-of-type {\n",
       "        vertical-align: middle;\n",
       "    }\n",
       "\n",
       "    .dataframe tbody tr th {\n",
       "        vertical-align: top;\n",
       "    }\n",
       "\n",
       "    .dataframe thead th {\n",
       "        text-align: right;\n",
       "    }\n",
       "</style>\n",
       "<table border=\"1\" class=\"dataframe\">\n",
       "  <thead>\n",
       "    <tr style=\"text-align: right;\">\n",
       "      <th></th>\n",
       "      <th>Unnamed: 0</th>\n",
       "      <th>Customer Id</th>\n",
       "      <th>Age</th>\n",
       "      <th>Edu</th>\n",
       "      <th>Years Employed</th>\n",
       "      <th>Income</th>\n",
       "      <th>Card Debt</th>\n",
       "      <th>Other Debt</th>\n",
       "      <th>Defaulted</th>\n",
       "      <th>DebtIncomeRatio</th>\n",
       "    </tr>\n",
       "  </thead>\n",
       "  <tbody>\n",
       "    <tr>\n",
       "      <th>0</th>\n",
       "      <td>0</td>\n",
       "      <td>1</td>\n",
       "      <td>41</td>\n",
       "      <td>2</td>\n",
       "      <td>6</td>\n",
       "      <td>19</td>\n",
       "      <td>0.124</td>\n",
       "      <td>1.073</td>\n",
       "      <td>0.0</td>\n",
       "      <td>6.3</td>\n",
       "    </tr>\n",
       "    <tr>\n",
       "      <th>1</th>\n",
       "      <td>1</td>\n",
       "      <td>2</td>\n",
       "      <td>47</td>\n",
       "      <td>1</td>\n",
       "      <td>26</td>\n",
       "      <td>100</td>\n",
       "      <td>4.582</td>\n",
       "      <td>8.218</td>\n",
       "      <td>0.0</td>\n",
       "      <td>12.8</td>\n",
       "    </tr>\n",
       "    <tr>\n",
       "      <th>2</th>\n",
       "      <td>2</td>\n",
       "      <td>3</td>\n",
       "      <td>33</td>\n",
       "      <td>2</td>\n",
       "      <td>10</td>\n",
       "      <td>57</td>\n",
       "      <td>6.111</td>\n",
       "      <td>5.802</td>\n",
       "      <td>1.0</td>\n",
       "      <td>20.9</td>\n",
       "    </tr>\n",
       "    <tr>\n",
       "      <th>3</th>\n",
       "      <td>3</td>\n",
       "      <td>4</td>\n",
       "      <td>29</td>\n",
       "      <td>2</td>\n",
       "      <td>4</td>\n",
       "      <td>19</td>\n",
       "      <td>0.681</td>\n",
       "      <td>0.516</td>\n",
       "      <td>0.0</td>\n",
       "      <td>6.3</td>\n",
       "    </tr>\n",
       "    <tr>\n",
       "      <th>4</th>\n",
       "      <td>4</td>\n",
       "      <td>5</td>\n",
       "      <td>47</td>\n",
       "      <td>1</td>\n",
       "      <td>31</td>\n",
       "      <td>253</td>\n",
       "      <td>9.308</td>\n",
       "      <td>8.908</td>\n",
       "      <td>0.0</td>\n",
       "      <td>7.2</td>\n",
       "    </tr>\n",
       "  </tbody>\n",
       "</table>\n",
       "</div>"
      ],
      "text/plain": [
       "   Unnamed: 0  Customer Id  Age  Edu  Years Employed  Income  Card Debt  \\\n",
       "0           0            1   41    2               6      19      0.124   \n",
       "1           1            2   47    1              26     100      4.582   \n",
       "2           2            3   33    2              10      57      6.111   \n",
       "3           3            4   29    2               4      19      0.681   \n",
       "4           4            5   47    1              31     253      9.308   \n",
       "\n",
       "   Other Debt  Defaulted  DebtIncomeRatio  \n",
       "0       1.073        0.0              6.3  \n",
       "1       8.218        0.0             12.8  \n",
       "2       5.802        1.0             20.9  \n",
       "3       0.516        0.0              6.3  \n",
       "4       8.908        0.0              7.2  "
      ]
     },
     "execution_count": 3,
     "metadata": {},
     "output_type": "execute_result"
    }
   ],
   "source": [
    "df.info()\n",
    "df.head()"
   ]
  },
  {
   "cell_type": "markdown",
   "id": "d5d2ba7d",
   "metadata": {},
   "source": [
    "* 850 rows, 10 columns\n",
    "* Missing data in Defaulted column"
   ]
  },
  {
   "cell_type": "code",
   "execution_count": 4,
   "id": "536fcdd5",
   "metadata": {},
   "outputs": [],
   "source": [
    "ml_df = df.copy()"
   ]
  },
  {
   "cell_type": "code",
   "execution_count": 5,
   "id": "56a9d3a7",
   "metadata": {},
   "outputs": [
    {
     "data": {
      "text/plain": [
       "0"
      ]
     },
     "execution_count": 5,
     "metadata": {},
     "output_type": "execute_result"
    }
   ],
   "source": [
    "ml_df.duplicated().sum()"
   ]
  },
  {
   "cell_type": "markdown",
   "id": "91c4c6d3",
   "metadata": {},
   "source": [
    "* No duplicates found"
   ]
  },
  {
   "cell_type": "code",
   "execution_count": 6,
   "id": "b3446f98",
   "metadata": {},
   "outputs": [
    {
     "data": {
      "text/plain": [
       "Unnamed: 0           0\n",
       "Customer Id          0\n",
       "Age                  0\n",
       "Edu                  0\n",
       "Years Employed       0\n",
       "Income               0\n",
       "Card Debt            0\n",
       "Other Debt           0\n",
       "Defaulted          150\n",
       "DebtIncomeRatio      0\n",
       "dtype: int64"
      ]
     },
     "execution_count": 6,
     "metadata": {},
     "output_type": "execute_result"
    }
   ],
   "source": [
    "ml_df.isna().sum()"
   ]
  },
  {
   "cell_type": "markdown",
   "id": "8a58c422",
   "metadata": {},
   "source": [
    "Missing 150 from Defaulted column\n"
   ]
  },
  {
   "cell_type": "code",
   "execution_count": 7,
   "id": "33b78c06",
   "metadata": {},
   "outputs": [
    {
     "data": {
      "text/plain": [
       "0.0    517\n",
       "1.0    183\n",
       "Name: Defaulted, dtype: int64"
      ]
     },
     "execution_count": 7,
     "metadata": {},
     "output_type": "execute_result"
    }
   ],
   "source": [
    "ml_df['Defaulted'].value_counts()\n",
    "# Will impute with mode as column is binary"
   ]
  },
  {
   "cell_type": "code",
   "execution_count": 8,
   "id": "fa6b1ff7",
   "metadata": {},
   "outputs": [
    {
     "data": {
      "text/html": [
       "<div>\n",
       "<style scoped>\n",
       "    .dataframe tbody tr th:only-of-type {\n",
       "        vertical-align: middle;\n",
       "    }\n",
       "\n",
       "    .dataframe tbody tr th {\n",
       "        vertical-align: top;\n",
       "    }\n",
       "\n",
       "    .dataframe thead th {\n",
       "        text-align: right;\n",
       "    }\n",
       "</style>\n",
       "<table border=\"1\" class=\"dataframe\">\n",
       "  <thead>\n",
       "    <tr style=\"text-align: right;\">\n",
       "      <th></th>\n",
       "      <th>Unnamed: 0</th>\n",
       "      <th>Customer Id</th>\n",
       "      <th>Age</th>\n",
       "      <th>Edu</th>\n",
       "      <th>Years Employed</th>\n",
       "      <th>Income</th>\n",
       "      <th>Card Debt</th>\n",
       "      <th>Other Debt</th>\n",
       "      <th>Defaulted</th>\n",
       "      <th>DebtIncomeRatio</th>\n",
       "    </tr>\n",
       "  </thead>\n",
       "  <tbody>\n",
       "    <tr>\n",
       "      <th>count</th>\n",
       "      <td>850.00000</td>\n",
       "      <td>850.00000</td>\n",
       "      <td>850.000000</td>\n",
       "      <td>850.000000</td>\n",
       "      <td>850.000000</td>\n",
       "      <td>850.000000</td>\n",
       "      <td>850.000000</td>\n",
       "      <td>850.000000</td>\n",
       "      <td>700.000000</td>\n",
       "      <td>850.000000</td>\n",
       "    </tr>\n",
       "    <tr>\n",
       "      <th>mean</th>\n",
       "      <td>424.50000</td>\n",
       "      <td>425.50000</td>\n",
       "      <td>35.029412</td>\n",
       "      <td>1.710588</td>\n",
       "      <td>8.565882</td>\n",
       "      <td>46.675294</td>\n",
       "      <td>1.576820</td>\n",
       "      <td>3.078773</td>\n",
       "      <td>0.261429</td>\n",
       "      <td>10.171647</td>\n",
       "    </tr>\n",
       "    <tr>\n",
       "      <th>std</th>\n",
       "      <td>245.51816</td>\n",
       "      <td>245.51816</td>\n",
       "      <td>8.041432</td>\n",
       "      <td>0.927784</td>\n",
       "      <td>6.777884</td>\n",
       "      <td>38.543054</td>\n",
       "      <td>2.125843</td>\n",
       "      <td>3.398799</td>\n",
       "      <td>0.439727</td>\n",
       "      <td>6.719441</td>\n",
       "    </tr>\n",
       "    <tr>\n",
       "      <th>min</th>\n",
       "      <td>0.00000</td>\n",
       "      <td>1.00000</td>\n",
       "      <td>20.000000</td>\n",
       "      <td>1.000000</td>\n",
       "      <td>0.000000</td>\n",
       "      <td>13.000000</td>\n",
       "      <td>0.012000</td>\n",
       "      <td>0.046000</td>\n",
       "      <td>0.000000</td>\n",
       "      <td>0.100000</td>\n",
       "    </tr>\n",
       "    <tr>\n",
       "      <th>25%</th>\n",
       "      <td>212.25000</td>\n",
       "      <td>213.25000</td>\n",
       "      <td>29.000000</td>\n",
       "      <td>1.000000</td>\n",
       "      <td>3.000000</td>\n",
       "      <td>24.000000</td>\n",
       "      <td>0.382500</td>\n",
       "      <td>1.045750</td>\n",
       "      <td>0.000000</td>\n",
       "      <td>5.100000</td>\n",
       "    </tr>\n",
       "    <tr>\n",
       "      <th>50%</th>\n",
       "      <td>424.50000</td>\n",
       "      <td>425.50000</td>\n",
       "      <td>34.000000</td>\n",
       "      <td>1.000000</td>\n",
       "      <td>7.000000</td>\n",
       "      <td>35.000000</td>\n",
       "      <td>0.885000</td>\n",
       "      <td>2.003000</td>\n",
       "      <td>0.000000</td>\n",
       "      <td>8.700000</td>\n",
       "    </tr>\n",
       "    <tr>\n",
       "      <th>75%</th>\n",
       "      <td>636.75000</td>\n",
       "      <td>637.75000</td>\n",
       "      <td>41.000000</td>\n",
       "      <td>2.000000</td>\n",
       "      <td>13.000000</td>\n",
       "      <td>55.750000</td>\n",
       "      <td>1.898500</td>\n",
       "      <td>3.903250</td>\n",
       "      <td>1.000000</td>\n",
       "      <td>13.800000</td>\n",
       "    </tr>\n",
       "    <tr>\n",
       "      <th>max</th>\n",
       "      <td>849.00000</td>\n",
       "      <td>850.00000</td>\n",
       "      <td>56.000000</td>\n",
       "      <td>5.000000</td>\n",
       "      <td>33.000000</td>\n",
       "      <td>446.000000</td>\n",
       "      <td>20.561000</td>\n",
       "      <td>35.197000</td>\n",
       "      <td>1.000000</td>\n",
       "      <td>41.300000</td>\n",
       "    </tr>\n",
       "  </tbody>\n",
       "</table>\n",
       "</div>"
      ],
      "text/plain": [
       "       Unnamed: 0  Customer Id         Age         Edu  Years Employed  \\\n",
       "count   850.00000    850.00000  850.000000  850.000000      850.000000   \n",
       "mean    424.50000    425.50000   35.029412    1.710588        8.565882   \n",
       "std     245.51816    245.51816    8.041432    0.927784        6.777884   \n",
       "min       0.00000      1.00000   20.000000    1.000000        0.000000   \n",
       "25%     212.25000    213.25000   29.000000    1.000000        3.000000   \n",
       "50%     424.50000    425.50000   34.000000    1.000000        7.000000   \n",
       "75%     636.75000    637.75000   41.000000    2.000000       13.000000   \n",
       "max     849.00000    850.00000   56.000000    5.000000       33.000000   \n",
       "\n",
       "           Income   Card Debt  Other Debt   Defaulted  DebtIncomeRatio  \n",
       "count  850.000000  850.000000  850.000000  700.000000       850.000000  \n",
       "mean    46.675294    1.576820    3.078773    0.261429        10.171647  \n",
       "std     38.543054    2.125843    3.398799    0.439727         6.719441  \n",
       "min     13.000000    0.012000    0.046000    0.000000         0.100000  \n",
       "25%     24.000000    0.382500    1.045750    0.000000         5.100000  \n",
       "50%     35.000000    0.885000    2.003000    0.000000         8.700000  \n",
       "75%     55.750000    1.898500    3.903250    1.000000        13.800000  \n",
       "max    446.000000   20.561000   35.197000    1.000000        41.300000  "
      ]
     },
     "execution_count": 8,
     "metadata": {},
     "output_type": "execute_result"
    }
   ],
   "source": [
    "ml_df.describe(include='number')"
   ]
  },
  {
   "cell_type": "code",
   "execution_count": 9,
   "id": "5ad70591",
   "metadata": {},
   "outputs": [],
   "source": [
    "ml_df.drop(columns =['Unnamed: 0', 'Customer Id'], axis=1, inplace=True)\n",
    "## Why isn't this working?? "
   ]
  },
  {
   "cell_type": "code",
   "execution_count": 10,
   "id": "5ab134b6",
   "metadata": {},
   "outputs": [
    {
     "name": "stdout",
     "output_type": "stream",
     "text": [
      "<class 'pandas.core.frame.DataFrame'>\n",
      "RangeIndex: 850 entries, 0 to 849\n",
      "Data columns (total 8 columns):\n",
      " #   Column           Non-Null Count  Dtype  \n",
      "---  ------           --------------  -----  \n",
      " 0   Age              850 non-null    int64  \n",
      " 1   Edu              850 non-null    int64  \n",
      " 2   Years Employed   850 non-null    int64  \n",
      " 3   Income           850 non-null    int64  \n",
      " 4   Card Debt        850 non-null    float64\n",
      " 5   Other Debt       850 non-null    float64\n",
      " 6   Defaulted        700 non-null    float64\n",
      " 7   DebtIncomeRatio  850 non-null    float64\n",
      "dtypes: float64(4), int64(4)\n",
      "memory usage: 53.2 KB\n"
     ]
    }
   ],
   "source": [
    "ml_df.info()"
   ]
  },
  {
   "cell_type": "markdown",
   "id": "a97e2191",
   "metadata": {},
   "source": [
    "## Missing Data"
   ]
  },
  {
   "cell_type": "code",
   "execution_count": 11,
   "id": "2c44b935",
   "metadata": {},
   "outputs": [],
   "source": [
    "ml_df['Defaulted'] = ml_df['Defaulted'].fillna(df['Defaulted'].mode()[0])\n",
    "\n",
    "#https://vitalflux.com/pandas-impute-missing-values-mean-median-mode/"
   ]
  },
  {
   "cell_type": "code",
   "execution_count": 12,
   "id": "e50d40aa",
   "metadata": {},
   "outputs": [
    {
     "data": {
      "text/plain": [
       "Age                0\n",
       "Edu                0\n",
       "Years Employed     0\n",
       "Income             0\n",
       "Card Debt          0\n",
       "Other Debt         0\n",
       "Defaulted          0\n",
       "DebtIncomeRatio    0\n",
       "dtype: int64"
      ]
     },
     "execution_count": 12,
     "metadata": {},
     "output_type": "execute_result"
    }
   ],
   "source": [
    "ml_df.isna().sum(0)"
   ]
  },
  {
   "cell_type": "code",
   "execution_count": 13,
   "id": "6adf7c92",
   "metadata": {},
   "outputs": [
    {
     "data": {
      "text/plain": [
       "0.0    667\n",
       "1.0    183\n",
       "Name: Defaulted, dtype: int64"
      ]
     },
     "execution_count": 13,
     "metadata": {},
     "output_type": "execute_result"
    }
   ],
   "source": [
    "ml_df['Defaulted'].value_counts ()"
   ]
  },
  {
   "cell_type": "markdown",
   "id": "7e86e335",
   "metadata": {},
   "source": [
    "## Scaling, KMeans and Inertia"
   ]
  },
  {
   "cell_type": "code",
   "execution_count": 14,
   "id": "f9bf91f6",
   "metadata": {},
   "outputs": [],
   "source": [
    "# Instantiate Scaler\n",
    "scaler = StandardScaler()\n",
    "\n",
    "scaled_df = scaler.fit_transform(ml_df)"
   ]
  },
  {
   "cell_type": "code",
   "execution_count": 15,
   "id": "a1dfb355",
   "metadata": {},
   "outputs": [
    {
     "data": {
      "image/png": "[encoded data removed]",
      "text/plain": [
       "<Figure size 640x480 with 1 Axes>"
      ]
     },
     "metadata": {},
     "output_type": "display_data"
    }
   ],
   "source": [
    "# Create an empty list of inertias\n",
    "\n",
    "inertias = []\n",
    "\n",
    "# Loop through K values between  and  and store the inertias in the list\n",
    "\n",
    "for k in range (2,20):\n",
    "    kmeans = KMeans(n_clusters=k, random_state=42)\n",
    "    kmeans.fit(scaled_df)\n",
    "    inertias.append(kmeans.inertia_)\n",
    "\n",
    "# Visualize scores\n",
    "\n",
    "plt.plot(range(2,20), inertias, marker = '.');\n",
    "plt.xlabel('clusters');\n",
    "plt.ylabel('inertia');"
   ]
  },
  {
   "cell_type": "markdown",
   "id": "e42015f5",
   "metadata": {},
   "source": [
    "*Does not have a real pronounced elbow.\n",
    "*Possibly one around 7 or 8"
   ]
  },
  {
   "cell_type": "markdown",
   "id": "b7adef72",
   "metadata": {},
   "source": [
    "## Silhouette Scores"
   ]
  },
  {
   "cell_type": "code",
   "execution_count": 16,
   "id": "ab114c44",
   "metadata": {},
   "outputs": [
    {
     "data": {
      "image/png": "[encoded data removed]",
      "text/plain": [
       "<Figure size 640x480 with 1 Axes>"
      ]
     },
     "metadata": {},
     "output_type": "display_data"
    }
   ],
   "source": [
    "# Empty List    # Tried km.labels_ \n",
    "\n",
    "silhouette_scores = []\n",
    "\n",
    "# For loop\n",
    "\n",
    "for i in range(2,20):\n",
    "    kmeans = KMeans(n_clusters =i, random_state=42)\n",
    "    kmeans.fit(scaled_df)\n",
    "    silhouette_scores.append(silhouette_score(scaled_df,kmeans.labels_))\n",
    "    \n",
    "# Visualize scores\n",
    "plt.plot(range(2,20), silhouette_scores, marker = '.');\n",
    "plt.xlabel('Number of Clusters');\n",
    "plt.ylabel('Silhouette Score');"
   ]
  },
  {
   "cell_type": "code",
   "execution_count": 21,
   "id": "09aea6e1",
   "metadata": {},
   "outputs": [
    {
     "data": {
      "text/plain": [
       "0.3401172685946081"
      ]
     },
     "execution_count": 21,
     "metadata": {},
     "output_type": "execute_result"
    }
   ],
   "source": [
    "kmeans = KMeans(n_clusters = 2, random_state=42)\n",
    "kmeans.fit(scaled_df)\n",
    "silhouette_score(scaled_df, kmeans.labels_)\n",
    "# This is a really bad score"
   ]
  },
  {
   "cell_type": "code",
   "execution_count": null,
   "id": "c61b2672",
   "metadata": {},
   "outputs": [],
   "source": []
  }
 ],
 "metadata": {
  "kernelspec": {
   "display_name": "Python (dojo-env)",
   "language": "python",
   "name": "dojo-env"
  },
  "language_info": {
   "codemirror_mode": {
    "name": "ipython",
    "version": 3
   },
   "file_extension": ".py",
   "mimetype": "text/x-python",
   "name": "python",
   "nbconvert_exporter": "python",
   "pygments_lexer": "ipython3",
   "version": "3.9.15"
  },
  "toc": {
   "base_numbering": 1,
   "nav_menu": {},
   "number_sections": false,
   "sideBar": true,
   "skip_h1_title": false,
   "title_cell": "Table of Contents",
   "title_sidebar": "Contents",
   "toc_cell": false,
   "toc_position": {},
   "toc_section_display": true,
   "toc_window_display": false
  }
 },
 "nbformat": 4,
 "nbformat_minor": 5
}
